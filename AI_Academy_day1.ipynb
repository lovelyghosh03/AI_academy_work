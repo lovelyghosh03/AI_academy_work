{
 "cells": [
  {
   "cell_type": "code",
   "execution_count": 2,
   "id": "1c8626f4-3d40-4031-92c2-b53137552e83",
   "metadata": {
    "tags": []
   },
   "outputs": [
    {
     "data": {
      "text/plain": [
       "0"
      ]
     },
     "execution_count": 2,
     "metadata": {},
     "output_type": "execute_result"
    }
   ],
   "source": [
    "s=\"kjefbk\"\n",
    "s.find('k')"
   ]
  },
  {
   "cell_type": "code",
   "execution_count": 13,
   "id": "0c8da8e3-33c5-4585-8f11-4f93dab7e924",
   "metadata": {
    "tags": []
   },
   "outputs": [
    {
     "data": {
      "text/plain": [
       "'i love oringes'"
      ]
     },
     "execution_count": 13,
     "metadata": {},
     "output_type": "execute_result"
    }
   ],
   "source": [
    "a=\"i love oringes\"\n",
    "a"
   ]
  },
  {
   "cell_type": "code",
   "execution_count": 15,
   "id": "6a0e6853-1846-48a4-a818-3d7ab209134a",
   "metadata": {
    "tags": []
   },
   "outputs": [
    {
     "data": {
      "text/plain": [
       "'i love oranges'"
      ]
     },
     "execution_count": 15,
     "metadata": {},
     "output_type": "execute_result"
    }
   ],
   "source": [
    "a=a[:9]+'a'+a[10:]\n",
    "a\n",
    "#string = string[:position] + new_character + string[position+1:]"
   ]
  },
  {
   "cell_type": "code",
   "execution_count": 21,
   "id": "44bdb73b-b3e3-4516-ae90-5ee67608257d",
   "metadata": {
    "tags": []
   },
   "outputs": [
    {
     "data": {
      "text/plain": [
       "dict_items([('Id', [100, 101, 102, 103]), ('Name', ['a', 'b', 'c', 'e']), ('age', [22, 27, 20, 22])])"
      ]
     },
     "execution_count": 21,
     "metadata": {},
     "output_type": "execute_result"
    }
   ],
   "source": [
    "d={}#dictionary initialization\n",
    "d['Id']=[100,101,102,103]\n",
    "d['Name']=['a','b','c','e']\n",
    "d['age']=[22,27,20,22]\n",
    "d.items()"
   ]
  },
  {
   "cell_type": "code",
   "execution_count": 27,
   "id": "4fc2ec94-a370-4454-b392-aef527aa421a",
   "metadata": {
    "tags": []
   },
   "outputs": [
    {
     "name": "stdin",
     "output_type": "stream",
     "text": [
      "Enter the amount to be withdrawn:  666\n"
     ]
    },
    {
     "name": "stdout",
     "output_type": "stream",
     "text": [
      "Insufficient Balance! \n"
     ]
    }
   ],
   "source": [
    "acc_bal=500\n",
    "withdrawal=int(input(\"Enter the amount to be withdrawn: \"))\n",
    "if(withdrawal>acc_bal):\n",
    "    print(\"Insufficient Balance! \")\n",
    "else:\n",
    "    #print(\"Withdrawal successful! remaining balance is \"+ str(acc_bal-withdrawal))\n",
    "    print(\"Withdrawal successful! remaining balance is {}\".format(acc_bal-withdrawal))    "
   ]
  },
  {
   "cell_type": "code",
   "execution_count": 28,
   "id": "ec522054-a72a-4a32-a88f-c322af64d569",
   "metadata": {
    "tags": []
   },
   "outputs": [
    {
     "name": "stdin",
     "output_type": "stream",
     "text": [
      "ENter a number:  55\n"
     ]
    },
    {
     "name": "stdout",
     "output_type": "stream",
     "text": [
      "Positive number!\n",
      "multiple of 5\n"
     ]
    }
   ],
   "source": [
    "n=int(input(\"Enter a number: \"))\n",
    "if n>0:\n",
    "    print(\"Positive number!\")\n",
    "    if(n%2==0):\n",
    "        print(\"multiple of 2\")\n",
    "    elif(n%5==0):\n",
    "        print(\"multiple of 5\")\n",
    "else:\n",
    "    print(\"negative number!\")"
   ]
  }
 ],
 "metadata": {
  "kernelspec": {
   "display_name": "Python 3 (ipykernel)",
   "language": "python",
   "name": "python3"
  },
  "language_info": {
   "codemirror_mode": {
    "name": "ipython",
    "version": 3
   },
   "file_extension": ".py",
   "mimetype": "text/x-python",
   "name": "python",
   "nbconvert_exporter": "python",
   "pygments_lexer": "ipython3",
   "version": "3.11.5"
  }
 },
 "nbformat": 4,
 "nbformat_minor": 5
}
